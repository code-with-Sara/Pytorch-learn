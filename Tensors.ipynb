{
  "nbformat": 4,
  "nbformat_minor": 0,
  "metadata": {
    "colab": {
      "provenance": [],
      "authorship_tag": "ABX9TyPALq7WRtlAKUD+ONTPynVg",
      "include_colab_link": true
    },
    "kernelspec": {
      "name": "python3",
      "display_name": "Python 3"
    },
    "language_info": {
      "name": "python"
    }
  },
  "cells": [
    {
      "cell_type": "markdown",
      "metadata": {
        "id": "view-in-github",
        "colab_type": "text"
      },
      "source": [
        "<a href=\"https://colab.research.google.com/github/code-with-Sara/Pytorch-learn/blob/main/Tensors.ipynb\" target=\"_parent\"><img src=\"https://colab.research.google.com/assets/colab-badge.svg\" alt=\"Open In Colab\"/></a>"
      ]
    },
    {
      "cell_type": "markdown",
      "source": [
        "**Tensors** are simply mathematical objects that can be used to describe physical properties, just like scalars and vectors. In fact tensors are merely a generalisation of scalars and vectors; a scalar is a zero rank tensor, and a vector is a first rank tensor.\n",
        "\n",
        "The rank (or order) of a tensor is defined by the number of directions (and hence the dimensionality of the array) required to describe it. For example, properties that require one direction (first rank) can be fully described by a 3×1 column vector, and properties that require two directions (second rank tensors), can be described by 9 numbers, as a 3×3 matrix. As such, in general an nth rank tensor can be described by 3n coefficients."
      ],
      "metadata": {
        "id": "AfG_GaPDB8-w"
      }
    },
    {
      "cell_type": "code",
      "execution_count": 1,
      "metadata": {
        "id": "_B1F6cGQBeR-"
      },
      "outputs": [],
      "source": [
        "import torch\n",
        "import numpy as np"
      ]
    },
    {
      "cell_type": "markdown",
      "source": [
        "**Lists**"
      ],
      "metadata": {
        "id": "uSb4qKfECxOs"
      }
    },
    {
      "cell_type": "code",
      "source": [
        "list = ([1, 2, 3], [4, 5, 6])\n",
        "print(list)"
      ],
      "metadata": {
        "colab": {
          "base_uri": "https://localhost:8080/"
        },
        "id": "hx0ubbnpCOwZ",
        "outputId": "92b14fca-3282-4b17-d489-71d24e44015b"
      },
      "execution_count": 3,
      "outputs": [
        {
          "output_type": "stream",
          "name": "stdout",
          "text": [
            "([1, 2, 3], [4, 5, 6])\n"
          ]
        }
      ]
    },
    {
      "cell_type": "markdown",
      "source": [
        "**Numpy Arrays**"
      ],
      "metadata": {
        "id": "XuezA3h3DOA_"
      }
    },
    {
      "cell_type": "code",
      "source": [
        "np1 = np.random.rand(3, 4)\n",
        "np1"
      ],
      "metadata": {
        "colab": {
          "base_uri": "https://localhost:8080/"
        },
        "id": "B4-HC0vWC96o",
        "outputId": "ef5aac5c-7e92-438f-c30d-50b008710e6a"
      },
      "execution_count": 6,
      "outputs": [
        {
          "output_type": "execute_result",
          "data": {
            "text/plain": [
              "array([[0.07007958, 0.69454279, 0.85620179, 0.01632084],\n",
              "       [0.50945725, 0.19175733, 0.59221708, 0.24285919],\n",
              "       [0.09865964, 0.35743352, 0.25882753, 0.65003275]])"
            ]
          },
          "metadata": {},
          "execution_count": 6
        }
      ]
    },
    {
      "cell_type": "code",
      "source": [
        "np1.dtype"
      ],
      "metadata": {
        "colab": {
          "base_uri": "https://localhost:8080/"
        },
        "id": "toFUYR2aDV3k",
        "outputId": "4239f02d-1c91-42ba-cbd1-d3cd891c2dd0"
      },
      "execution_count": 7,
      "outputs": [
        {
          "output_type": "execute_result",
          "data": {
            "text/plain": [
              "dtype('float64')"
            ]
          },
          "metadata": {},
          "execution_count": 7
        }
      ]
    },
    {
      "cell_type": "markdown",
      "source": [
        "**Torch**"
      ],
      "metadata": {
        "id": "uKsGNYp3Dsc7"
      }
    },
    {
      "cell_type": "code",
      "source": [
        "tensor_2dim = torch.randn(3,4)\n",
        "tensor_2dim"
      ],
      "metadata": {
        "colab": {
          "base_uri": "https://localhost:8080/"
        },
        "id": "ill0ea-VDkTM",
        "outputId": "ffad28bd-391a-4e97-b8d1-a42a6230f5f4"
      },
      "execution_count": 10,
      "outputs": [
        {
          "output_type": "execute_result",
          "data": {
            "text/plain": [
              "tensor([[ 0.8087, -2.0258, -2.0206, -0.1193],\n",
              "        [-0.1348, -0.5430, -0.2397,  0.0153],\n",
              "        [-0.7414, -0.3286, -0.9473,  0.4059]])"
            ]
          },
          "metadata": {},
          "execution_count": 10
        }
      ]
    },
    {
      "cell_type": "code",
      "source": [
        "tensor_3dim = torch.zeros(2,3,4)\n",
        "tensor_3dim"
      ],
      "metadata": {
        "colab": {
          "base_uri": "https://localhost:8080/"
        },
        "id": "cCcVj3onD9yL",
        "outputId": "cc34ba65-7ad5-46a5-b335-c15b51c2c4cc"
      },
      "execution_count": 11,
      "outputs": [
        {
          "output_type": "execute_result",
          "data": {
            "text/plain": [
              "tensor([[[0., 0., 0., 0.],\n",
              "         [0., 0., 0., 0.],\n",
              "         [0., 0., 0., 0.]],\n",
              "\n",
              "        [[0., 0., 0., 0.],\n",
              "         [0., 0., 0., 0.],\n",
              "         [0., 0., 0., 0.]]])"
            ]
          },
          "metadata": {},
          "execution_count": 11
        }
      ]
    },
    {
      "cell_type": "code",
      "source": [
        "#create tensor out of numpy array\n",
        "mytorch = torch.tensor(np1)\n",
        "mytorch"
      ],
      "metadata": {
        "colab": {
          "base_uri": "https://localhost:8080/"
        },
        "id": "tf3pW9K0Erok",
        "outputId": "57267c50-169f-483e-87a8-d46f27f10e2c"
      },
      "execution_count": 12,
      "outputs": [
        {
          "output_type": "execute_result",
          "data": {
            "text/plain": [
              "tensor([[0.0701, 0.6945, 0.8562, 0.0163],\n",
              "        [0.5095, 0.1918, 0.5922, 0.2429],\n",
              "        [0.0987, 0.3574, 0.2588, 0.6500]], dtype=torch.float64)"
            ]
          },
          "metadata": {},
          "execution_count": 12
        }
      ]
    },
    {
      "cell_type": "code",
      "source": [],
      "metadata": {
        "id": "F49yXwMHFH-v"
      },
      "execution_count": null,
      "outputs": []
    }
  ]
}